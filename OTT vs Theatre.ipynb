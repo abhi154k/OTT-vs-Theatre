{
 "cells": [
  {
   "cell_type": "code",
   "execution_count": 1,
   "id": "c0052e4e",
   "metadata": {},
   "outputs": [],
   "source": [
    "import numpy as np\n",
    "import pandas as pd"
   ]
  },
  {
   "cell_type": "code",
   "execution_count": 2,
   "id": "07ff7127",
   "metadata": {},
   "outputs": [],
   "source": [
    "df=pd.read_csv(r'C:\\Users\\HP-PC\\Downloads\\OTT or Theatre_ (Responses) - OTT vs Theatre.csv')"
   ]
  },
  {
   "cell_type": "code",
   "execution_count": 3,
   "id": "38d35af8",
   "metadata": {},
   "outputs": [
    {
     "data": {
      "text/html": [
       "<div>\n",
       "<style scoped>\n",
       "    .dataframe tbody tr th:only-of-type {\n",
       "        vertical-align: middle;\n",
       "    }\n",
       "\n",
       "    .dataframe tbody tr th {\n",
       "        vertical-align: top;\n",
       "    }\n",
       "\n",
       "    .dataframe thead th {\n",
       "        text-align: right;\n",
       "    }\n",
       "</style>\n",
       "<table border=\"1\" class=\"dataframe\">\n",
       "  <thead>\n",
       "    <tr style=\"text-align: right;\">\n",
       "      <th></th>\n",
       "      <th>Timestamp</th>\n",
       "      <th>Email Address</th>\n",
       "      <th>Name</th>\n",
       "      <th>Age</th>\n",
       "      <th>What do you prefer?OTT or Theatre?</th>\n",
       "      <th>Which platform you use the most?</th>\n",
       "      <th>What type of content do you often watch?(You can tick multiple content)</th>\n",
       "      <th>How much money do you spend on OTT subscriptions in a month?</th>\n",
       "      <th>Do you share your subscription?</th>\n",
       "      <th>Which medium do you prefer to watch? (You can tick multiple mode)</th>\n",
       "      <th>...</th>\n",
       "      <th>How many movies you have watched in last 3 months on OTT?</th>\n",
       "      <th>How many movies you have watched in last 3 months in multiplex?</th>\n",
       "      <th>Why would you prefer watching movies at the Cinemas?</th>\n",
       "      <th>How many movies do you watch in a month?(Numerical Value)</th>\n",
       "      <th>How much do you spend in a month?</th>\n",
       "      <th>Which medium do you prefer to watch?</th>\n",
       "      <th>If a movie is premiered in the cinemas and on OTT at the same time, where would you prefer to watch it?</th>\n",
       "      <th>What do you think tickets are</th>\n",
       "      <th>How many movies you have watched in last 3 months on OTT?.1</th>\n",
       "      <th>How many movies you have watched in last 3 months in multiplex?.1</th>\n",
       "    </tr>\n",
       "  </thead>\n",
       "  <tbody>\n",
       "    <tr>\n",
       "      <th>0</th>\n",
       "      <td>NaN</td>\n",
       "      <td>NaN</td>\n",
       "      <td>NaN</td>\n",
       "      <td>NaN</td>\n",
       "      <td>NaN</td>\n",
       "      <td>NaN</td>\n",
       "      <td>NaN</td>\n",
       "      <td>NaN</td>\n",
       "      <td>NaN</td>\n",
       "      <td>NaN</td>\n",
       "      <td>...</td>\n",
       "      <td>NaN</td>\n",
       "      <td>NaN</td>\n",
       "      <td>NaN</td>\n",
       "      <td>NaN</td>\n",
       "      <td>NaN</td>\n",
       "      <td>NaN</td>\n",
       "      <td>NaN</td>\n",
       "      <td>NaN</td>\n",
       "      <td>NaN</td>\n",
       "      <td>NaN</td>\n",
       "    </tr>\n",
       "    <tr>\n",
       "      <th>1</th>\n",
       "      <td>NaN</td>\n",
       "      <td>NaN</td>\n",
       "      <td>NaN</td>\n",
       "      <td>NaN</td>\n",
       "      <td>NaN</td>\n",
       "      <td>NaN</td>\n",
       "      <td>NaN</td>\n",
       "      <td>NaN</td>\n",
       "      <td>NaN</td>\n",
       "      <td>NaN</td>\n",
       "      <td>...</td>\n",
       "      <td>NaN</td>\n",
       "      <td>NaN</td>\n",
       "      <td>NaN</td>\n",
       "      <td>NaN</td>\n",
       "      <td>NaN</td>\n",
       "      <td>NaN</td>\n",
       "      <td>NaN</td>\n",
       "      <td>NaN</td>\n",
       "      <td>NaN</td>\n",
       "      <td>NaN</td>\n",
       "    </tr>\n",
       "    <tr>\n",
       "      <th>2</th>\n",
       "      <td>NaN</td>\n",
       "      <td>NaN</td>\n",
       "      <td>NaN</td>\n",
       "      <td>NaN</td>\n",
       "      <td>NaN</td>\n",
       "      <td>NaN</td>\n",
       "      <td>NaN</td>\n",
       "      <td>NaN</td>\n",
       "      <td>NaN</td>\n",
       "      <td>NaN</td>\n",
       "      <td>...</td>\n",
       "      <td>NaN</td>\n",
       "      <td>NaN</td>\n",
       "      <td>NaN</td>\n",
       "      <td>NaN</td>\n",
       "      <td>NaN</td>\n",
       "      <td>NaN</td>\n",
       "      <td>NaN</td>\n",
       "      <td>NaN</td>\n",
       "      <td>NaN</td>\n",
       "      <td>NaN</td>\n",
       "    </tr>\n",
       "    <tr>\n",
       "      <th>3</th>\n",
       "      <td>NaN</td>\n",
       "      <td>NaN</td>\n",
       "      <td>NaN</td>\n",
       "      <td>NaN</td>\n",
       "      <td>NaN</td>\n",
       "      <td>NaN</td>\n",
       "      <td>NaN</td>\n",
       "      <td>NaN</td>\n",
       "      <td>NaN</td>\n",
       "      <td>NaN</td>\n",
       "      <td>...</td>\n",
       "      <td>NaN</td>\n",
       "      <td>NaN</td>\n",
       "      <td>NaN</td>\n",
       "      <td>NaN</td>\n",
       "      <td>NaN</td>\n",
       "      <td>NaN</td>\n",
       "      <td>NaN</td>\n",
       "      <td>NaN</td>\n",
       "      <td>NaN</td>\n",
       "      <td>NaN</td>\n",
       "    </tr>\n",
       "    <tr>\n",
       "      <th>4</th>\n",
       "      <td>9/15/2022 20:10:13</td>\n",
       "      <td>abhishek.kumar2@praxis.ac.in</td>\n",
       "      <td>Abhishek Kumar</td>\n",
       "      <td>35.0</td>\n",
       "      <td>Theatre</td>\n",
       "      <td>NaN</td>\n",
       "      <td>NaN</td>\n",
       "      <td>NaN</td>\n",
       "      <td>NaN</td>\n",
       "      <td>NaN</td>\n",
       "      <td>...</td>\n",
       "      <td>NaN</td>\n",
       "      <td>NaN</td>\n",
       "      <td>Experience like 3D, IMAX and 4DX.</td>\n",
       "      <td>1.0</td>\n",
       "      <td>400.0</td>\n",
       "      <td>Hindi</td>\n",
       "      <td>Theatre</td>\n",
       "      <td>Normal</td>\n",
       "      <td>8.0</td>\n",
       "      <td>3.0</td>\n",
       "    </tr>\n",
       "  </tbody>\n",
       "</table>\n",
       "<p>5 rows × 21 columns</p>\n",
       "</div>"
      ],
      "text/plain": [
       "            Timestamp                 Email Address            Name   Age  \\\n",
       "0                 NaN                           NaN             NaN   NaN   \n",
       "1                 NaN                           NaN             NaN   NaN   \n",
       "2                 NaN                           NaN             NaN   NaN   \n",
       "3                 NaN                           NaN             NaN   NaN   \n",
       "4  9/15/2022 20:10:13  abhishek.kumar2@praxis.ac.in  Abhishek Kumar  35.0   \n",
       "\n",
       "  What do you prefer?OTT or Theatre? Which platform you use the most?  \\\n",
       "0                                NaN                              NaN   \n",
       "1                                NaN                              NaN   \n",
       "2                                NaN                              NaN   \n",
       "3                                NaN                              NaN   \n",
       "4                            Theatre                              NaN   \n",
       "\n",
       "  What type of content do you often watch?(You can tick multiple content)  \\\n",
       "0                                                NaN                        \n",
       "1                                                NaN                        \n",
       "2                                                NaN                        \n",
       "3                                                NaN                        \n",
       "4                                                NaN                        \n",
       "\n",
       "   How much money do you spend on OTT subscriptions in a month?  \\\n",
       "0                                                NaN              \n",
       "1                                                NaN              \n",
       "2                                                NaN              \n",
       "3                                                NaN              \n",
       "4                                                NaN              \n",
       "\n",
       "  Do you share your subscription?  \\\n",
       "0                             NaN   \n",
       "1                             NaN   \n",
       "2                             NaN   \n",
       "3                             NaN   \n",
       "4                             NaN   \n",
       "\n",
       "  Which medium do you prefer to watch? (You can tick multiple mode)  ...  \\\n",
       "0                                                NaN                 ...   \n",
       "1                                                NaN                 ...   \n",
       "2                                                NaN                 ...   \n",
       "3                                                NaN                 ...   \n",
       "4                                                NaN                 ...   \n",
       "\n",
       "  How many movies you have watched in last 3 months on OTT?  \\\n",
       "0                                                NaN          \n",
       "1                                                NaN          \n",
       "2                                                NaN          \n",
       "3                                                NaN          \n",
       "4                                                NaN          \n",
       "\n",
       "   How many movies you have watched in last 3 months in multiplex?  \\\n",
       "0                                                NaN                 \n",
       "1                                                NaN                 \n",
       "2                                                NaN                 \n",
       "3                                                NaN                 \n",
       "4                                                NaN                 \n",
       "\n",
       "   Why would you prefer watching movies at the Cinemas?  \\\n",
       "0                                                NaN      \n",
       "1                                                NaN      \n",
       "2                                                NaN      \n",
       "3                                                NaN      \n",
       "4                  Experience like 3D, IMAX and 4DX.      \n",
       "\n",
       "  How many movies do you watch in a month?(Numerical Value)  \\\n",
       "0                                                NaN          \n",
       "1                                                NaN          \n",
       "2                                                NaN          \n",
       "3                                                NaN          \n",
       "4                                                1.0          \n",
       "\n",
       "   How much do you spend in a month?  Which medium do you prefer to watch?  \\\n",
       "0                                NaN                                   NaN   \n",
       "1                                NaN                                   NaN   \n",
       "2                                NaN                                   NaN   \n",
       "3                                NaN                                   NaN   \n",
       "4                              400.0                                 Hindi   \n",
       "\n",
       "  If a movie is premiered in the cinemas and on OTT at the same time, where would you prefer to watch it?  \\\n",
       "0                                                NaN                                                        \n",
       "1                                                NaN                                                        \n",
       "2                                                NaN                                                        \n",
       "3                                                NaN                                                        \n",
       "4                                            Theatre                                                        \n",
       "\n",
       "  What do you think tickets are  \\\n",
       "0                           NaN   \n",
       "1                           NaN   \n",
       "2                           NaN   \n",
       "3                           NaN   \n",
       "4                        Normal   \n",
       "\n",
       "  How many movies you have watched in last 3 months on OTT?.1  \\\n",
       "0                                                NaN            \n",
       "1                                                NaN            \n",
       "2                                                NaN            \n",
       "3                                                NaN            \n",
       "4                                                8.0            \n",
       "\n",
       "   How many movies you have watched in last 3 months in multiplex?.1  \n",
       "0                                                NaN                  \n",
       "1                                                NaN                  \n",
       "2                                                NaN                  \n",
       "3                                                NaN                  \n",
       "4                                                3.0                  \n",
       "\n",
       "[5 rows x 21 columns]"
      ]
     },
     "execution_count": 3,
     "metadata": {},
     "output_type": "execute_result"
    }
   ],
   "source": [
    "df.head()"
   ]
  },
  {
   "cell_type": "code",
   "execution_count": 4,
   "id": "41503778",
   "metadata": {},
   "outputs": [],
   "source": [
    "df.drop([0,1,2,3],axis=0,inplace=True)"
   ]
  },
  {
   "cell_type": "code",
   "execution_count": 5,
   "id": "20746548",
   "metadata": {},
   "outputs": [
    {
     "data": {
      "text/html": [
       "<div>\n",
       "<style scoped>\n",
       "    .dataframe tbody tr th:only-of-type {\n",
       "        vertical-align: middle;\n",
       "    }\n",
       "\n",
       "    .dataframe tbody tr th {\n",
       "        vertical-align: top;\n",
       "    }\n",
       "\n",
       "    .dataframe thead th {\n",
       "        text-align: right;\n",
       "    }\n",
       "</style>\n",
       "<table border=\"1\" class=\"dataframe\">\n",
       "  <thead>\n",
       "    <tr style=\"text-align: right;\">\n",
       "      <th></th>\n",
       "      <th>Timestamp</th>\n",
       "      <th>Email Address</th>\n",
       "      <th>Name</th>\n",
       "      <th>Age</th>\n",
       "      <th>What do you prefer?OTT or Theatre?</th>\n",
       "      <th>Which platform you use the most?</th>\n",
       "      <th>What type of content do you often watch?(You can tick multiple content)</th>\n",
       "      <th>How much money do you spend on OTT subscriptions in a month?</th>\n",
       "      <th>Do you share your subscription?</th>\n",
       "      <th>Which medium do you prefer to watch? (You can tick multiple mode)</th>\n",
       "      <th>...</th>\n",
       "      <th>How many movies you have watched in last 3 months on OTT?</th>\n",
       "      <th>How many movies you have watched in last 3 months in multiplex?</th>\n",
       "      <th>Why would you prefer watching movies at the Cinemas?</th>\n",
       "      <th>How many movies do you watch in a month?(Numerical Value)</th>\n",
       "      <th>How much do you spend in a month?</th>\n",
       "      <th>Which medium do you prefer to watch?</th>\n",
       "      <th>If a movie is premiered in the cinemas and on OTT at the same time, where would you prefer to watch it?</th>\n",
       "      <th>What do you think tickets are</th>\n",
       "      <th>How many movies you have watched in last 3 months on OTT?.1</th>\n",
       "      <th>How many movies you have watched in last 3 months in multiplex?.1</th>\n",
       "    </tr>\n",
       "  </thead>\n",
       "  <tbody>\n",
       "    <tr>\n",
       "      <th>4</th>\n",
       "      <td>9/15/2022 20:10:13</td>\n",
       "      <td>abhishek.kumar2@praxis.ac.in</td>\n",
       "      <td>Abhishek Kumar</td>\n",
       "      <td>35.0</td>\n",
       "      <td>Theatre</td>\n",
       "      <td>NaN</td>\n",
       "      <td>NaN</td>\n",
       "      <td>NaN</td>\n",
       "      <td>NaN</td>\n",
       "      <td>NaN</td>\n",
       "      <td>...</td>\n",
       "      <td>NaN</td>\n",
       "      <td>NaN</td>\n",
       "      <td>Experience like 3D, IMAX and 4DX.</td>\n",
       "      <td>1.0</td>\n",
       "      <td>400.0</td>\n",
       "      <td>Hindi</td>\n",
       "      <td>Theatre</td>\n",
       "      <td>Normal</td>\n",
       "      <td>8.0</td>\n",
       "      <td>3.0</td>\n",
       "    </tr>\n",
       "    <tr>\n",
       "      <th>5</th>\n",
       "      <td>9/15/2022 20:13:46</td>\n",
       "      <td>pulokesh.chatterjee@praxis.ac.in</td>\n",
       "      <td>Pulokesh</td>\n",
       "      <td>27.0</td>\n",
       "      <td>OTT</td>\n",
       "      <td>Netflix</td>\n",
       "      <td>Web-Series</td>\n",
       "      <td>500.0</td>\n",
       "      <td>Yes</td>\n",
       "      <td>NaN</td>\n",
       "      <td>...</td>\n",
       "      <td>0.0</td>\n",
       "      <td>0.0</td>\n",
       "      <td>Experience like 3D, IMAX and 4DX.</td>\n",
       "      <td>2.0</td>\n",
       "      <td>1000.0</td>\n",
       "      <td>English</td>\n",
       "      <td>OTT</td>\n",
       "      <td>Overpriced</td>\n",
       "      <td>2.0</td>\n",
       "      <td>2.0</td>\n",
       "    </tr>\n",
       "    <tr>\n",
       "      <th>6</th>\n",
       "      <td>9/15/2022 20:17:25</td>\n",
       "      <td>arka.dhali@praxis.ac.in</td>\n",
       "      <td>Arka Dhali</td>\n",
       "      <td>30.0</td>\n",
       "      <td>OTT</td>\n",
       "      <td>Disney+Hotstar</td>\n",
       "      <td>Movies</td>\n",
       "      <td>220.0</td>\n",
       "      <td>Yes</td>\n",
       "      <td>NaN</td>\n",
       "      <td>...</td>\n",
       "      <td>25.0</td>\n",
       "      <td>1.0</td>\n",
       "      <td>Experience like 3D, IMAX and 4DX.</td>\n",
       "      <td>6.0</td>\n",
       "      <td>1000.0</td>\n",
       "      <td>English</td>\n",
       "      <td>OTT</td>\n",
       "      <td>Overpriced</td>\n",
       "      <td>27.0</td>\n",
       "      <td>3.0</td>\n",
       "    </tr>\n",
       "    <tr>\n",
       "      <th>7</th>\n",
       "      <td>9/23/2022 20:12:07</td>\n",
       "      <td>swagata.barua.edx2022@praxis.ac.in</td>\n",
       "      <td>Swagata Barua</td>\n",
       "      <td>23.0</td>\n",
       "      <td>OTT</td>\n",
       "      <td>Netflix</td>\n",
       "      <td>Web-Series, Movies, Documentaries</td>\n",
       "      <td>1200.0</td>\n",
       "      <td>Yes</td>\n",
       "      <td>Hindi, English</td>\n",
       "      <td>...</td>\n",
       "      <td>7.0</td>\n",
       "      <td>3.0</td>\n",
       "      <td>Video and Sound Quality., Great Ambience., Exp...</td>\n",
       "      <td>2.0</td>\n",
       "      <td>3000.0</td>\n",
       "      <td>English</td>\n",
       "      <td>Theatre</td>\n",
       "      <td>Overpriced</td>\n",
       "      <td>7.0</td>\n",
       "      <td>3.0</td>\n",
       "    </tr>\n",
       "    <tr>\n",
       "      <th>8</th>\n",
       "      <td>9/23/2022 20:13:12</td>\n",
       "      <td>soujatya.das@praxis.ac.in</td>\n",
       "      <td>SOUJATYA DAS</td>\n",
       "      <td>26.0</td>\n",
       "      <td>OTT</td>\n",
       "      <td>Netflix</td>\n",
       "      <td>Web-Series, Movies</td>\n",
       "      <td>300.0</td>\n",
       "      <td>Yes</td>\n",
       "      <td>Hindi, English</td>\n",
       "      <td>...</td>\n",
       "      <td>4.0</td>\n",
       "      <td>1.0</td>\n",
       "      <td>Video and Sound Quality., Great Ambience., Exp...</td>\n",
       "      <td>2.0</td>\n",
       "      <td>500.0</td>\n",
       "      <td>Hindi, English</td>\n",
       "      <td>Theatre</td>\n",
       "      <td>Normal</td>\n",
       "      <td>3.0</td>\n",
       "      <td>1.0</td>\n",
       "    </tr>\n",
       "  </tbody>\n",
       "</table>\n",
       "<p>5 rows × 21 columns</p>\n",
       "</div>"
      ],
      "text/plain": [
       "            Timestamp                       Email Address            Name  \\\n",
       "4  9/15/2022 20:10:13        abhishek.kumar2@praxis.ac.in  Abhishek Kumar   \n",
       "5  9/15/2022 20:13:46    pulokesh.chatterjee@praxis.ac.in       Pulokesh    \n",
       "6  9/15/2022 20:17:25             arka.dhali@praxis.ac.in      Arka Dhali   \n",
       "7  9/23/2022 20:12:07  swagata.barua.edx2022@praxis.ac.in  Swagata Barua    \n",
       "8  9/23/2022 20:13:12           soujatya.das@praxis.ac.in    SOUJATYA DAS   \n",
       "\n",
       "    Age What do you prefer?OTT or Theatre? Which platform you use the most?  \\\n",
       "4  35.0                            Theatre                              NaN   \n",
       "5  27.0                                OTT                          Netflix   \n",
       "6  30.0                                OTT                   Disney+Hotstar   \n",
       "7  23.0                                OTT                          Netflix   \n",
       "8  26.0                                OTT                          Netflix   \n",
       "\n",
       "  What type of content do you often watch?(You can tick multiple content)  \\\n",
       "4                                                NaN                        \n",
       "5                                         Web-Series                        \n",
       "6                                             Movies                        \n",
       "7                  Web-Series, Movies, Documentaries                        \n",
       "8                                 Web-Series, Movies                        \n",
       "\n",
       "   How much money do you spend on OTT subscriptions in a month?  \\\n",
       "4                                                NaN              \n",
       "5                                              500.0              \n",
       "6                                              220.0              \n",
       "7                                             1200.0              \n",
       "8                                              300.0              \n",
       "\n",
       "  Do you share your subscription?  \\\n",
       "4                             NaN   \n",
       "5                             Yes   \n",
       "6                             Yes   \n",
       "7                             Yes   \n",
       "8                             Yes   \n",
       "\n",
       "  Which medium do you prefer to watch? (You can tick multiple mode)  ...  \\\n",
       "4                                                NaN                 ...   \n",
       "5                                                NaN                 ...   \n",
       "6                                                NaN                 ...   \n",
       "7                                     Hindi, English                 ...   \n",
       "8                                     Hindi, English                 ...   \n",
       "\n",
       "  How many movies you have watched in last 3 months on OTT?  \\\n",
       "4                                                NaN          \n",
       "5                                                0.0          \n",
       "6                                               25.0          \n",
       "7                                                7.0          \n",
       "8                                                4.0          \n",
       "\n",
       "   How many movies you have watched in last 3 months in multiplex?  \\\n",
       "4                                                NaN                 \n",
       "5                                                0.0                 \n",
       "6                                                1.0                 \n",
       "7                                                3.0                 \n",
       "8                                                1.0                 \n",
       "\n",
       "   Why would you prefer watching movies at the Cinemas?  \\\n",
       "4                  Experience like 3D, IMAX and 4DX.      \n",
       "5                  Experience like 3D, IMAX and 4DX.      \n",
       "6                  Experience like 3D, IMAX and 4DX.      \n",
       "7  Video and Sound Quality., Great Ambience., Exp...      \n",
       "8  Video and Sound Quality., Great Ambience., Exp...      \n",
       "\n",
       "  How many movies do you watch in a month?(Numerical Value)  \\\n",
       "4                                                1.0          \n",
       "5                                                2.0          \n",
       "6                                                6.0          \n",
       "7                                                2.0          \n",
       "8                                                2.0          \n",
       "\n",
       "   How much do you spend in a month?  Which medium do you prefer to watch?  \\\n",
       "4                              400.0                                 Hindi   \n",
       "5                             1000.0                               English   \n",
       "6                             1000.0                               English   \n",
       "7                             3000.0                               English   \n",
       "8                              500.0                        Hindi, English   \n",
       "\n",
       "  If a movie is premiered in the cinemas and on OTT at the same time, where would you prefer to watch it?  \\\n",
       "4                                            Theatre                                                        \n",
       "5                                                OTT                                                        \n",
       "6                                                OTT                                                        \n",
       "7                                            Theatre                                                        \n",
       "8                                            Theatre                                                        \n",
       "\n",
       "  What do you think tickets are  \\\n",
       "4                        Normal   \n",
       "5                    Overpriced   \n",
       "6                    Overpriced   \n",
       "7                    Overpriced   \n",
       "8                        Normal   \n",
       "\n",
       "  How many movies you have watched in last 3 months on OTT?.1  \\\n",
       "4                                                8.0            \n",
       "5                                                2.0            \n",
       "6                                               27.0            \n",
       "7                                                7.0            \n",
       "8                                                3.0            \n",
       "\n",
       "   How many movies you have watched in last 3 months in multiplex?.1  \n",
       "4                                                3.0                  \n",
       "5                                                2.0                  \n",
       "6                                                3.0                  \n",
       "7                                                3.0                  \n",
       "8                                                1.0                  \n",
       "\n",
       "[5 rows x 21 columns]"
      ]
     },
     "execution_count": 5,
     "metadata": {},
     "output_type": "execute_result"
    }
   ],
   "source": [
    "df.head()"
   ]
  },
  {
   "cell_type": "code",
   "execution_count": null,
   "id": "9808a07c",
   "metadata": {},
   "outputs": [],
   "source": []
  },
  {
   "cell_type": "code",
   "execution_count": null,
   "id": "cd058179",
   "metadata": {},
   "outputs": [],
   "source": []
  },
  {
   "cell_type": "code",
   "execution_count": null,
   "id": "32b1ccbc",
   "metadata": {},
   "outputs": [],
   "source": [
    "df[\"Age\"]"
   ]
  },
  {
   "cell_type": "code",
   "execution_count": 6,
   "id": "4e498505",
   "metadata": {},
   "outputs": [
    {
     "data": {
      "text/plain": [
       "28.45360824742268"
      ]
     },
     "execution_count": 6,
     "metadata": {},
     "output_type": "execute_result"
    }
   ],
   "source": [
    "df[\"Age\"].mean()"
   ]
  },
  {
   "cell_type": "code",
   "execution_count": 7,
   "id": "e0d59146",
   "metadata": {},
   "outputs": [
    {
     "data": {
      "text/plain": [
       "24.0    10\n",
       "22.0     9\n",
       "30.0     8\n",
       "23.0     8\n",
       "25.0     8\n",
       "27.0     8\n",
       "26.0     6\n",
       "31.0     6\n",
       "28.0     5\n",
       "29.0     5\n",
       "33.0     3\n",
       "20.0     3\n",
       "21.0     3\n",
       "48.0     2\n",
       "52.0     2\n",
       "35.0     2\n",
       "19.0     2\n",
       "56.0     1\n",
       "32.0     1\n",
       "57.0     1\n",
       "43.0     1\n",
       "45.0     1\n",
       "39.0     1\n",
       "53.0     1\n",
       "Name: Age, dtype: int64"
      ]
     },
     "execution_count": 7,
     "metadata": {},
     "output_type": "execute_result"
    }
   ],
   "source": [
    "df[\"Age\"].value_counts()"
   ]
  },
  {
   "cell_type": "code",
   "execution_count": 8,
   "id": "04ecd271",
   "metadata": {},
   "outputs": [
    {
     "data": {
      "text/plain": [
       "26.0"
      ]
     },
     "execution_count": 8,
     "metadata": {},
     "output_type": "execute_result"
    }
   ],
   "source": [
    "df[\"Age\"].median()"
   ]
  },
  {
   "cell_type": "code",
   "execution_count": 9,
   "id": "5bb5d5d9",
   "metadata": {},
   "outputs": [
    {
     "data": {
      "text/plain": [
       "19.0"
      ]
     },
     "execution_count": 9,
     "metadata": {},
     "output_type": "execute_result"
    }
   ],
   "source": [
    "df[\"Age\"].min()"
   ]
  },
  {
   "cell_type": "code",
   "execution_count": 10,
   "id": "8bcd14d2",
   "metadata": {},
   "outputs": [],
   "source": [
    "import seaborn as sn\n",
    "import warnings\n",
    "warnings.filterwarnings(\"ignore\")"
   ]
  },
  {
   "cell_type": "code",
   "execution_count": 11,
   "id": "0f2f5d71",
   "metadata": {},
   "outputs": [
    {
     "data": {
      "text/plain": [
       "<AxesSubplot:xlabel='Age'>"
      ]
     },
     "execution_count": 11,
     "metadata": {},
     "output_type": "execute_result"
    },
    {
     "data": {
      "image/png": "[encoded data removed]",
      "text/plain": [
       "<Figure size 432x288 with 1 Axes>"
      ]
     },
     "metadata": {
      "needs_background": "light"
     },
     "output_type": "display_data"
    }
   ],
   "source": [
    "sn.boxplot(df[\"Age\"])"
   ]
  },
  {
   "cell_type": "code",
   "execution_count": null,
   "id": "026c7c0c",
   "metadata": {},
   "outputs": [],
   "source": []
  },
  {
   "cell_type": "code",
   "execution_count": null,
   "id": "a11db0a4",
   "metadata": {},
   "outputs": [],
   "source": [
    "df[\"How much do you spend in a month?\"].isnull().sum()"
   ]
  },
  {
   "cell_type": "code",
   "execution_count": null,
   "id": "47597600",
   "metadata": {},
   "outputs": [],
   "source": [
    "df[\"How much do you spend in a month?\"].info()"
   ]
  },
  {
   "cell_type": "code",
   "execution_count": null,
   "id": "5802265c",
   "metadata": {},
   "outputs": [],
   "source": [
    "df[\"How much money do you spend on OTT subscriptions in a month?\"].info()"
   ]
  },
  {
   "cell_type": "code",
   "execution_count": null,
   "id": "54653f73",
   "metadata": {},
   "outputs": [],
   "source": []
  },
  {
   "cell_type": "code",
   "execution_count": 12,
   "id": "3513dbf5",
   "metadata": {},
   "outputs": [],
   "source": [
    "ott_df=pd.read_excel(r'C:\\Users\\HP-PC\\Downloads\\OTT onlyf.xlsx') #extracting responses for only OTT respondents."
   ]
  },
  {
   "cell_type": "code",
   "execution_count": 13,
   "id": "47062d87",
   "metadata": {},
   "outputs": [],
   "source": [
    "tht_df=pd.read_excel(r'C:\\Users\\HP-PC\\Downloads\\Theater onlyf.xlsx') #extracting responses for Theatre only."
   ]
  },
  {
   "cell_type": "code",
   "execution_count": null,
   "id": "a1d69a02",
   "metadata": {},
   "outputs": [],
   "source": []
  },
  {
   "cell_type": "code",
   "execution_count": 14,
   "id": "e83071a3",
   "metadata": {},
   "outputs": [
    {
     "data": {
      "text/html": [
       "<div>\n",
       "<style scoped>\n",
       "    .dataframe tbody tr th:only-of-type {\n",
       "        vertical-align: middle;\n",
       "    }\n",
       "\n",
       "    .dataframe tbody tr th {\n",
       "        vertical-align: top;\n",
       "    }\n",
       "\n",
       "    .dataframe thead th {\n",
       "        text-align: right;\n",
       "    }\n",
       "</style>\n",
       "<table border=\"1\" class=\"dataframe\">\n",
       "  <thead>\n",
       "    <tr style=\"text-align: right;\">\n",
       "      <th></th>\n",
       "      <th>Email Address</th>\n",
       "      <th>Name</th>\n",
       "      <th>Gender</th>\n",
       "      <th>Age</th>\n",
       "      <th>What do you prefer?OTT or Theatre?</th>\n",
       "      <th>Which platform you use the most?</th>\n",
       "      <th>What type of content do you often watch?(You can tick multiple content)</th>\n",
       "      <th>How much money do you spend on OTT subscriptions in a month?</th>\n",
       "      <th>Do you share your subscription?</th>\n",
       "      <th>Which medium do you prefer to watch? (You can tick multiple mode)</th>\n",
       "      <th>How many hours do you spend to watch content?(per day)</th>\n",
       "      <th>How many movies you have watched in last 3 months on OTT?</th>\n",
       "      <th>How many movies you have watched in last 3 months in multiplex?</th>\n",
       "    </tr>\n",
       "  </thead>\n",
       "  <tbody>\n",
       "    <tr>\n",
       "      <th>0</th>\n",
       "      <td>pulokesh.chatterjee@praxis.ac.in</td>\n",
       "      <td>Pulokesh</td>\n",
       "      <td>M</td>\n",
       "      <td>27</td>\n",
       "      <td>OTT</td>\n",
       "      <td>Netflix</td>\n",
       "      <td>Web-Series</td>\n",
       "      <td>500</td>\n",
       "      <td>Yes</td>\n",
       "      <td>NaN</td>\n",
       "      <td>1 hours</td>\n",
       "      <td>0</td>\n",
       "      <td>0</td>\n",
       "    </tr>\n",
       "    <tr>\n",
       "      <th>1</th>\n",
       "      <td>arka.dhali@praxis.ac.in</td>\n",
       "      <td>Arka Dhali</td>\n",
       "      <td>M</td>\n",
       "      <td>30</td>\n",
       "      <td>OTT</td>\n",
       "      <td>Disney+Hotstar</td>\n",
       "      <td>Movies</td>\n",
       "      <td>220</td>\n",
       "      <td>Yes</td>\n",
       "      <td>NaN</td>\n",
       "      <td>3 hours</td>\n",
       "      <td>25</td>\n",
       "      <td>1</td>\n",
       "    </tr>\n",
       "    <tr>\n",
       "      <th>2</th>\n",
       "      <td>swagata.barua.edx2022@praxis.ac.in</td>\n",
       "      <td>Swagata Barua</td>\n",
       "      <td>F</td>\n",
       "      <td>23</td>\n",
       "      <td>OTT</td>\n",
       "      <td>Netflix</td>\n",
       "      <td>Web-Series, Movies, Documentaries</td>\n",
       "      <td>1200</td>\n",
       "      <td>Yes</td>\n",
       "      <td>Hindi, English</td>\n",
       "      <td>2 hours</td>\n",
       "      <td>7</td>\n",
       "      <td>3</td>\n",
       "    </tr>\n",
       "    <tr>\n",
       "      <th>3</th>\n",
       "      <td>soujatya.das@praxis.ac.in</td>\n",
       "      <td>SOUJATYA DAS</td>\n",
       "      <td>M</td>\n",
       "      <td>26</td>\n",
       "      <td>OTT</td>\n",
       "      <td>Netflix</td>\n",
       "      <td>Web-Series, Movies</td>\n",
       "      <td>300</td>\n",
       "      <td>Yes</td>\n",
       "      <td>Hindi, English</td>\n",
       "      <td>3 hours</td>\n",
       "      <td>4</td>\n",
       "      <td>1</td>\n",
       "    </tr>\n",
       "    <tr>\n",
       "      <th>4</th>\n",
       "      <td>soumik.banerjee@praxis.ac.in</td>\n",
       "      <td>Soumik Banerjee</td>\n",
       "      <td>M</td>\n",
       "      <td>25</td>\n",
       "      <td>OTT</td>\n",
       "      <td>Netflix</td>\n",
       "      <td>Web-Series, Movies, Documentaries</td>\n",
       "      <td>300</td>\n",
       "      <td>No</td>\n",
       "      <td>English</td>\n",
       "      <td>1 hours</td>\n",
       "      <td>4</td>\n",
       "      <td>0</td>\n",
       "    </tr>\n",
       "  </tbody>\n",
       "</table>\n",
       "</div>"
      ],
      "text/plain": [
       "                        Email Address             Name Gender  Age  \\\n",
       "0    pulokesh.chatterjee@praxis.ac.in        Pulokesh       M   27   \n",
       "1             arka.dhali@praxis.ac.in       Arka Dhali      M   30   \n",
       "2  swagata.barua.edx2022@praxis.ac.in   Swagata Barua       F   23   \n",
       "3           soujatya.das@praxis.ac.in     SOUJATYA DAS      M   26   \n",
       "4        soumik.banerjee@praxis.ac.in  Soumik Banerjee      M   25   \n",
       "\n",
       "  What do you prefer?OTT or Theatre? Which platform you use the most?  \\\n",
       "0                                OTT                          Netflix   \n",
       "1                                OTT                   Disney+Hotstar   \n",
       "2                                OTT                          Netflix   \n",
       "3                                OTT                          Netflix   \n",
       "4                                OTT                          Netflix   \n",
       "\n",
       "  What type of content do you often watch?(You can tick multiple content)  \\\n",
       "0                                         Web-Series                        \n",
       "1                                             Movies                        \n",
       "2                  Web-Series, Movies, Documentaries                        \n",
       "3                                 Web-Series, Movies                        \n",
       "4                  Web-Series, Movies, Documentaries                        \n",
       "\n",
       "   How much money do you spend on OTT subscriptions in a month?  \\\n",
       "0                                                500              \n",
       "1                                                220              \n",
       "2                                               1200              \n",
       "3                                                300              \n",
       "4                                                300              \n",
       "\n",
       "  Do you share your subscription?  \\\n",
       "0                             Yes   \n",
       "1                             Yes   \n",
       "2                             Yes   \n",
       "3                             Yes   \n",
       "4                              No   \n",
       "\n",
       "  Which medium do you prefer to watch? (You can tick multiple mode)  \\\n",
       "0                                                NaN                  \n",
       "1                                                NaN                  \n",
       "2                                     Hindi, English                  \n",
       "3                                     Hindi, English                  \n",
       "4                                            English                  \n",
       "\n",
       "  How many hours do you spend to watch content?(per day)  \\\n",
       "0                                            1 hours       \n",
       "1                                            3 hours       \n",
       "2                                            2 hours       \n",
       "3                                            3 hours       \n",
       "4                                            1 hours       \n",
       "\n",
       "   How many movies you have watched in last 3 months on OTT?  \\\n",
       "0                                                  0           \n",
       "1                                                 25           \n",
       "2                                                  7           \n",
       "3                                                  4           \n",
       "4                                                  4           \n",
       "\n",
       "   How many movies you have watched in last 3 months in multiplex?  \n",
       "0                                                  0                \n",
       "1                                                  1                \n",
       "2                                                  3                \n",
       "3                                                  1                \n",
       "4                                                  0                "
      ]
     },
     "execution_count": 14,
     "metadata": {},
     "output_type": "execute_result"
    }
   ],
   "source": [
    "ott_df.head()"
   ]
  },
  {
   "cell_type": "code",
   "execution_count": null,
   "id": "ce4eb951",
   "metadata": {},
   "outputs": [],
   "source": []
  },
  {
   "cell_type": "code",
   "execution_count": 15,
   "id": "f715f005",
   "metadata": {},
   "outputs": [
    {
     "data": {
      "text/html": [
       "<div>\n",
       "<style scoped>\n",
       "    .dataframe tbody tr th:only-of-type {\n",
       "        vertical-align: middle;\n",
       "    }\n",
       "\n",
       "    .dataframe tbody tr th {\n",
       "        vertical-align: top;\n",
       "    }\n",
       "\n",
       "    .dataframe thead th {\n",
       "        text-align: right;\n",
       "    }\n",
       "</style>\n",
       "<table border=\"1\" class=\"dataframe\">\n",
       "  <thead>\n",
       "    <tr style=\"text-align: right;\">\n",
       "      <th></th>\n",
       "      <th>Email Address</th>\n",
       "      <th>Name</th>\n",
       "      <th>Gender</th>\n",
       "      <th>Age</th>\n",
       "      <th>What do you prefer?OTT or Theatre?</th>\n",
       "      <th>Which platform you use the most?</th>\n",
       "      <th>What type of content do you often watch?(You can tick multiple content)</th>\n",
       "      <th>How much money do you spend on OTT subscriptions in a month?</th>\n",
       "      <th>Do you share your subscription?</th>\n",
       "      <th>Which medium do you prefer to watch? (You can tick multiple mode)</th>\n",
       "      <th>How many hours do you spend to watch content?(per day)</th>\n",
       "      <th>How many movies you have watched in last 3 months on OTT?</th>\n",
       "      <th>How many movies you have watched in last 3 months in multiplex?</th>\n",
       "    </tr>\n",
       "  </thead>\n",
       "  <tbody>\n",
       "    <tr>\n",
       "      <th>0</th>\n",
       "      <td>pulokesh.chatterjee@praxis.ac.in</td>\n",
       "      <td>Pulokesh</td>\n",
       "      <td>M</td>\n",
       "      <td>27</td>\n",
       "      <td>OTT</td>\n",
       "      <td>Netflix</td>\n",
       "      <td>Web-Series</td>\n",
       "      <td>500</td>\n",
       "      <td>Yes</td>\n",
       "      <td>NaN</td>\n",
       "      <td>1 hours</td>\n",
       "      <td>0</td>\n",
       "      <td>0</td>\n",
       "    </tr>\n",
       "    <tr>\n",
       "      <th>1</th>\n",
       "      <td>arka.dhali@praxis.ac.in</td>\n",
       "      <td>Arka Dhali</td>\n",
       "      <td>M</td>\n",
       "      <td>30</td>\n",
       "      <td>OTT</td>\n",
       "      <td>Disney+Hotstar</td>\n",
       "      <td>Movies</td>\n",
       "      <td>220</td>\n",
       "      <td>Yes</td>\n",
       "      <td>NaN</td>\n",
       "      <td>3 hours</td>\n",
       "      <td>25</td>\n",
       "      <td>1</td>\n",
       "    </tr>\n",
       "    <tr>\n",
       "      <th>2</th>\n",
       "      <td>swagata.barua.edx2022@praxis.ac.in</td>\n",
       "      <td>Swagata Barua</td>\n",
       "      <td>F</td>\n",
       "      <td>23</td>\n",
       "      <td>OTT</td>\n",
       "      <td>Netflix</td>\n",
       "      <td>Web-Series, Movies, Documentaries</td>\n",
       "      <td>1200</td>\n",
       "      <td>Yes</td>\n",
       "      <td>Hindi, English</td>\n",
       "      <td>2 hours</td>\n",
       "      <td>7</td>\n",
       "      <td>3</td>\n",
       "    </tr>\n",
       "    <tr>\n",
       "      <th>3</th>\n",
       "      <td>soujatya.das@praxis.ac.in</td>\n",
       "      <td>SOUJATYA DAS</td>\n",
       "      <td>M</td>\n",
       "      <td>26</td>\n",
       "      <td>OTT</td>\n",
       "      <td>Netflix</td>\n",
       "      <td>Web-Series, Movies</td>\n",
       "      <td>300</td>\n",
       "      <td>Yes</td>\n",
       "      <td>Hindi, English</td>\n",
       "      <td>3 hours</td>\n",
       "      <td>4</td>\n",
       "      <td>1</td>\n",
       "    </tr>\n",
       "    <tr>\n",
       "      <th>4</th>\n",
       "      <td>soumik.banerjee@praxis.ac.in</td>\n",
       "      <td>Soumik Banerjee</td>\n",
       "      <td>M</td>\n",
       "      <td>25</td>\n",
       "      <td>OTT</td>\n",
       "      <td>Netflix</td>\n",
       "      <td>Web-Series, Movies, Documentaries</td>\n",
       "      <td>300</td>\n",
       "      <td>No</td>\n",
       "      <td>English</td>\n",
       "      <td>1 hours</td>\n",
       "      <td>4</td>\n",
       "      <td>0</td>\n",
       "    </tr>\n",
       "  </tbody>\n",
       "</table>\n",
       "</div>"
      ],
      "text/plain": [
       "                        Email Address             Name Gender  Age  \\\n",
       "0    pulokesh.chatterjee@praxis.ac.in        Pulokesh       M   27   \n",
       "1             arka.dhali@praxis.ac.in       Arka Dhali      M   30   \n",
       "2  swagata.barua.edx2022@praxis.ac.in   Swagata Barua       F   23   \n",
       "3           soujatya.das@praxis.ac.in     SOUJATYA DAS      M   26   \n",
       "4        soumik.banerjee@praxis.ac.in  Soumik Banerjee      M   25   \n",
       "\n",
       "  What do you prefer?OTT or Theatre? Which platform you use the most?  \\\n",
       "0                                OTT                          Netflix   \n",
       "1                                OTT                   Disney+Hotstar   \n",
       "2                                OTT                          Netflix   \n",
       "3                                OTT                          Netflix   \n",
       "4                                OTT                          Netflix   \n",
       "\n",
       "  What type of content do you often watch?(You can tick multiple content)  \\\n",
       "0                                         Web-Series                        \n",
       "1                                             Movies                        \n",
       "2                  Web-Series, Movies, Documentaries                        \n",
       "3                                 Web-Series, Movies                        \n",
       "4                  Web-Series, Movies, Documentaries                        \n",
       "\n",
       "   How much money do you spend on OTT subscriptions in a month?  \\\n",
       "0                                                500              \n",
       "1                                                220              \n",
       "2                                               1200              \n",
       "3                                                300              \n",
       "4                                                300              \n",
       "\n",
       "  Do you share your subscription?  \\\n",
       "0                             Yes   \n",
       "1                             Yes   \n",
       "2                             Yes   \n",
       "3                             Yes   \n",
       "4                              No   \n",
       "\n",
       "  Which medium do you prefer to watch? (You can tick multiple mode)  \\\n",
       "0                                                NaN                  \n",
       "1                                                NaN                  \n",
       "2                                     Hindi, English                  \n",
       "3                                     Hindi, English                  \n",
       "4                                            English                  \n",
       "\n",
       "  How many hours do you spend to watch content?(per day)  \\\n",
       "0                                            1 hours       \n",
       "1                                            3 hours       \n",
       "2                                            2 hours       \n",
       "3                                            3 hours       \n",
       "4                                            1 hours       \n",
       "\n",
       "   How many movies you have watched in last 3 months on OTT?  \\\n",
       "0                                                  0           \n",
       "1                                                 25           \n",
       "2                                                  7           \n",
       "3                                                  4           \n",
       "4                                                  4           \n",
       "\n",
       "   How many movies you have watched in last 3 months in multiplex?  \n",
       "0                                                  0                \n",
       "1                                                  1                \n",
       "2                                                  3                \n",
       "3                                                  1                \n",
       "4                                                  0                "
      ]
     },
     "execution_count": 15,
     "metadata": {},
     "output_type": "execute_result"
    }
   ],
   "source": [
    "ott_df.head()"
   ]
  },
  {
   "cell_type": "code",
   "execution_count": null,
   "id": "6f0e6269",
   "metadata": {},
   "outputs": [],
   "source": []
  },
  {
   "cell_type": "code",
   "execution_count": 17,
   "id": "450f658d",
   "metadata": {
    "scrolled": true
   },
   "outputs": [
    {
     "data": {
      "text/plain": [
       "0               1 hours\n",
       "1               3 hours\n",
       "2               2 hours\n",
       "3               3 hours\n",
       "4               1 hours\n",
       "5               3 hours\n",
       "6               1 hours\n",
       "7               2 hours\n",
       "8               3 hours\n",
       "9               1 hours\n",
       "10              3 hours\n",
       "11    More than 3 hours\n",
       "12              1 hours\n",
       "13              1 hours\n",
       "14              1 hours\n",
       "15              2 hours\n",
       "16              2 hours\n",
       "17              1 hours\n",
       "18              30 mins\n",
       "19              2 hours\n",
       "20              1 hours\n",
       "21              30 mins\n",
       "22              2 hours\n",
       "23              1 hours\n",
       "24              1 hours\n",
       "25              30 mins\n",
       "26    More than 3 hours\n",
       "27              2 hours\n",
       "28    More than 3 hours\n",
       "29                hfhjk\n",
       "30    More than 3 hours\n",
       "31              3 hours\n",
       "32              1 hours\n",
       "33              1 hours\n",
       "34              2 hours\n",
       "35              1 hours\n",
       "36              1 hours\n",
       "37              30 mins\n",
       "38              1 hours\n",
       "39              2 hours\n",
       "40    More than 3 hours\n",
       "41    More than 3 hours\n",
       "42              2 hours\n",
       "43              1 hours\n",
       "44              30 mins\n",
       "45              2 hours\n",
       "46    More than 3 hours\n",
       "47              1 hours\n",
       "48    More than 3 hours\n",
       "49    More than 3 hours\n",
       "50    More than 3 hours\n",
       "51              3 hours\n",
       "52    More than 3 hours\n",
       "53              2 hours\n",
       "54              1 hours\n",
       "55              30 mins\n",
       "56              1 hours\n",
       "Name: How many hours do you spend to watch content?(per day), dtype: object"
      ]
     },
     "execution_count": 17,
     "metadata": {},
     "output_type": "execute_result"
    }
   ],
   "source": [
    "ott_df[\"How many hours do you spend to watch content?(per day)\"]"
   ]
  },
  {
   "cell_type": "code",
   "execution_count": 24,
   "id": "a2beb2a5",
   "metadata": {},
   "outputs": [
    {
     "data": {
      "text/plain": [
       "17511"
      ]
     },
     "execution_count": 24,
     "metadata": {},
     "output_type": "execute_result"
    }
   ],
   "source": [
    "ott_df[\"How much money do you spend on OTT subscriptions in a month?\"].sum() #Total expenses made in theatre."
   ]
  },
  {
   "cell_type": "code",
   "execution_count": 25,
   "id": "d239c586",
   "metadata": {},
   "outputs": [
    {
     "data": {
      "text/plain": [
       "60303"
      ]
     },
     "execution_count": 25,
     "metadata": {},
     "output_type": "execute_result"
    }
   ],
   "source": [
    "tht_df[\"How much do you spend in a month?\"].sum() #Total expenses made in OTT."
   ]
  },
  {
   "cell_type": "code",
   "execution_count": null,
   "id": "f4209f16",
   "metadata": {},
   "outputs": [],
   "source": []
  },
  {
   "cell_type": "code",
   "execution_count": null,
   "id": "3813e881",
   "metadata": {},
   "outputs": [],
   "source": []
  },
  {
   "cell_type": "code",
   "execution_count": null,
   "id": "0afa4ab1",
   "metadata": {},
   "outputs": [],
   "source": [
    "tht_df.head(3)"
   ]
  },
  {
   "cell_type": "code",
   "execution_count": 29,
   "id": "3920d112",
   "metadata": {},
   "outputs": [],
   "source": [
    "r=np.corrcoef(tht_df[\"Age\"],tht_df[\"How much do you spend in a month?\"])"
   ]
  },
  {
   "cell_type": "code",
   "execution_count": 30,
   "id": "8bd9d470",
   "metadata": {},
   "outputs": [
    {
     "data": {
      "text/plain": [
       "array([[ 1.        , -0.09818691],\n",
       "       [-0.09818691,  1.        ]])"
      ]
     },
     "execution_count": 30,
     "metadata": {},
     "output_type": "execute_result"
    }
   ],
   "source": [
    "r"
   ]
  },
  {
   "cell_type": "code",
   "execution_count": 31,
   "id": "de435f1f",
   "metadata": {},
   "outputs": [
    {
     "data": {
      "text/plain": [
       "0     35\n",
       "1     30\n",
       "2     24\n",
       "3     22\n",
       "4     39\n",
       "5     24\n",
       "6     27\n",
       "7     30\n",
       "8     29\n",
       "9     24\n",
       "10    23\n",
       "11    28\n",
       "12    23\n",
       "13    24\n",
       "14    24\n",
       "15    21\n",
       "16    23\n",
       "17    24\n",
       "18    20\n",
       "19    31\n",
       "20    29\n",
       "21    24\n",
       "22    25\n",
       "23    23\n",
       "24    28\n",
       "25    22\n",
       "26    25\n",
       "27    27\n",
       "28    29\n",
       "29    19\n",
       "30    26\n",
       "31    43\n",
       "32    25\n",
       "33    33\n",
       "34    28\n",
       "35    33\n",
       "36    48\n",
       "37    48\n",
       "38    53\n",
       "39    30\n",
       "Name: Age, dtype: int64"
      ]
     },
     "execution_count": 31,
     "metadata": {},
     "output_type": "execute_result"
    }
   ],
   "source": [
    "tht_df[\"Age\"]"
   ]
  },
  {
   "cell_type": "code",
   "execution_count": 32,
   "id": "fa697100",
   "metadata": {},
   "outputs": [
    {
     "data": {
      "text/plain": [
       "0      400\n",
       "1      500\n",
       "2     3000\n",
       "3     5000\n",
       "4     3000\n",
       "5     1600\n",
       "6     5000\n",
       "7     1000\n",
       "8      700\n",
       "9      500\n",
       "10     200\n",
       "11     400\n",
       "12     500\n",
       "13     500\n",
       "14     400\n",
       "15    1500\n",
       "16    3000\n",
       "17    3000\n",
       "18    2000\n",
       "19    2000\n",
       "20    1000\n",
       "21     500\n",
       "22       3\n",
       "23    1000\n",
       "24    2500\n",
       "25     300\n",
       "26     300\n",
       "27     500\n",
       "28     300\n",
       "29    1000\n",
       "30    4000\n",
       "31     600\n",
       "32    1000\n",
       "33    2500\n",
       "34    3000\n",
       "35    5000\n",
       "36     900\n",
       "37     900\n",
       "38     300\n",
       "39     500\n",
       "Name: How much do you spend in a month?, dtype: int64"
      ]
     },
     "execution_count": 32,
     "metadata": {},
     "output_type": "execute_result"
    }
   ],
   "source": [
    "tht_df[\"How much do you spend in a month?\"]"
   ]
  },
  {
   "cell_type": "code",
   "execution_count": null,
   "id": "c6e023c7",
   "metadata": {},
   "outputs": [],
   "source": []
  },
  {
   "cell_type": "code",
   "execution_count": 33,
   "id": "7db597d3",
   "metadata": {},
   "outputs": [],
   "source": [
    "import matplotlib.pyplot as plt\n",
    "import seaborn as sn"
   ]
  },
  {
   "cell_type": "markdown",
   "id": "c807ac26",
   "metadata": {},
   "source": [
    "## Finding correlation between Age and Monthly money spend."
   ]
  },
  {
   "cell_type": "code",
   "execution_count": 34,
   "id": "d7753b99",
   "metadata": {},
   "outputs": [
    {
     "data": {
      "text/plain": [
       "array([[ 1.        , -0.09818691],\n",
       "       [-0.09818691,  1.        ]])"
      ]
     },
     "execution_count": 34,
     "metadata": {},
     "output_type": "execute_result"
    }
   ],
   "source": [
    "r=np.corrcoef(tht_df[\"Age\"],tht_df[\"How much do you spend in a month?\"])\n",
    "r"
   ]
  },
  {
   "cell_type": "markdown",
   "id": "eedadcb8",
   "metadata": {},
   "source": [
    "### Plotting scatter plot and Best fit line."
   ]
  },
  {
   "cell_type": "code",
   "execution_count": 37,
   "id": "715b0589",
   "metadata": {},
   "outputs": [
    {
     "data": {
      "text/plain": [
       "<seaborn.axisgrid.FacetGrid at 0x208bca84b20>"
      ]
     },
     "execution_count": 37,
     "metadata": {},
     "output_type": "execute_result"
    },
    {
     "data": {
      "image/png": "[encoded data removed]",
      "text/plain": [
       "<Figure size 360x360 with 1 Axes>"
      ]
     },
     "metadata": {
      "needs_background": "light"
     },
     "output_type": "display_data"
    }
   ],
   "source": [
    "import seaborn as sn\n",
    "sn.lmplot(x=\"Age\",y=\"How much do you spend in a month?\",data=tht_df)"
   ]
  },
  {
   "cell_type": "code",
   "execution_count": 38,
   "id": "6f24b741",
   "metadata": {},
   "outputs": [
    {
     "data": {
      "text/plain": [
       "28.36842105263158"
      ]
     },
     "execution_count": 38,
     "metadata": {},
     "output_type": "execute_result"
    }
   ],
   "source": [
    "age_mean=ott_df[\"Age\"].mean()\n",
    "age_mean"
   ]
  },
  {
   "cell_type": "code",
   "execution_count": 39,
   "id": "c995d831",
   "metadata": {},
   "outputs": [
    {
     "data": {
      "text/plain": [
       "0     27\n",
       "1     30\n",
       "2     23\n",
       "3     26\n",
       "4     25\n",
       "5     22\n",
       "6     20\n",
       "7     30\n",
       "8     27\n",
       "9     30\n",
       "10    31\n",
       "11    28\n",
       "12    30\n",
       "13    56\n",
       "14    23\n",
       "15    21\n",
       "16    19\n",
       "17    23\n",
       "18    26\n",
       "19    24\n",
       "20    33\n",
       "21    20\n",
       "22    23\n",
       "23    25\n",
       "24    22\n",
       "25    27\n",
       "26    31\n",
       "27    31\n",
       "28    52\n",
       "29    32\n",
       "30    31\n",
       "31    57\n",
       "32    27\n",
       "33    22\n",
       "34    29\n",
       "35    21\n",
       "36    26\n",
       "37    22\n",
       "38    29\n",
       "39    26\n",
       "40    22\n",
       "41    24\n",
       "42    25\n",
       "43    25\n",
       "44    22\n",
       "45    24\n",
       "46    25\n",
       "47    27\n",
       "48    28\n",
       "49    30\n",
       "50    31\n",
       "51    27\n",
       "52    35\n",
       "53    22\n",
       "54    45\n",
       "55    52\n",
       "56    26\n",
       "Name: Age, dtype: int64"
      ]
     },
     "execution_count": 39,
     "metadata": {},
     "output_type": "execute_result"
    }
   ],
   "source": [
    "ott_df[\"Age\"].replace(\"NaN\",age_mean)"
   ]
  },
  {
   "cell_type": "code",
   "execution_count": null,
   "id": "b7b3cf11",
   "metadata": {},
   "outputs": [],
   "source": [
    "ott_df[\"Age\"].isnull().sum()"
   ]
  },
  {
   "cell_type": "code",
   "execution_count": null,
   "id": "bb70e897",
   "metadata": {},
   "outputs": [],
   "source": [
    "ott_df[\"Age\"].info()"
   ]
  },
  {
   "cell_type": "markdown",
   "id": "afd0c71d",
   "metadata": {},
   "source": [
    "### Converting Watchtime into Int64 Dtype to find correlation between Age"
   ]
  },
  {
   "cell_type": "code",
   "execution_count": 42,
   "id": "5553e4f3",
   "metadata": {},
   "outputs": [],
   "source": [
    "ott_df[\"How many hours do you spend to watch content?(per day)\"].replace(\"1 hours\",60,inplace=True)\n",
    "ott_df[\"How many hours do you spend to watch content?(per day)\"].replace(\"3 hours\",180,inplace=True)\n",
    "ott_df[\"How many hours do you spend to watch content?(per day)\"].replace(\"2 hours\",120,inplace=True)\n",
    "ott_df[\"How many hours do you spend to watch content?(per day)\"].replace(\"More than 3 hours\",210,inplace=True)\n",
    "ott_df[\"How many hours do you spend to watch content?(per day)\"].replace(\"30 mins\",30,inplace=True)\n",
    "ott_df[\"How many hours do you spend to watch content?(per day)\"].replace(\"hfhjk\",90,inplace=True)\n"
   ]
  },
  {
   "cell_type": "code",
   "execution_count": 43,
   "id": "38770305",
   "metadata": {},
   "outputs": [
    {
     "data": {
      "text/plain": [
       "0      60\n",
       "1     180\n",
       "2     120\n",
       "3     180\n",
       "4      60\n",
       "5     180\n",
       "6      60\n",
       "7     120\n",
       "8     180\n",
       "9      60\n",
       "10    180\n",
       "11    210\n",
       "12     60\n",
       "13     60\n",
       "14     60\n",
       "15    120\n",
       "16    120\n",
       "17     60\n",
       "18     30\n",
       "19    120\n",
       "20     60\n",
       "21     30\n",
       "22    120\n",
       "23     60\n",
       "24     60\n",
       "25     30\n",
       "26    210\n",
       "27    120\n",
       "28    210\n",
       "29     90\n",
       "30    210\n",
       "31    180\n",
       "32     60\n",
       "33     60\n",
       "34    120\n",
       "35     60\n",
       "36     60\n",
       "37     30\n",
       "38     60\n",
       "39    120\n",
       "40    210\n",
       "41    210\n",
       "42    120\n",
       "43     60\n",
       "44     30\n",
       "45    120\n",
       "46    210\n",
       "47     60\n",
       "48    210\n",
       "49    210\n",
       "50    210\n",
       "51    180\n",
       "52    210\n",
       "53    120\n",
       "54     60\n",
       "55     30\n",
       "56     60\n",
       "Name: How many hours do you spend to watch content?(per day), dtype: int64"
      ]
     },
     "execution_count": 43,
     "metadata": {},
     "output_type": "execute_result"
    }
   ],
   "source": [
    "ott_df[\"How many hours do you spend to watch content?(per day)\"]"
   ]
  },
  {
   "cell_type": "code",
   "execution_count": 11,
   "id": "ec11bb3c",
   "metadata": {},
   "outputs": [],
   "source": [
    "import numpy as np"
   ]
  },
  {
   "cell_type": "code",
   "execution_count": 44,
   "id": "bb3d79ed",
   "metadata": {},
   "outputs": [
    {
     "data": {
      "text/plain": [
       "array([[1.        , 0.12616114],\n",
       "       [0.12616114, 1.        ]])"
      ]
     },
     "execution_count": 44,
     "metadata": {},
     "output_type": "execute_result"
    }
   ],
   "source": [
    "r=np.corrcoef(ott_df[\"How many hours do you spend to watch content?(per day)\"],ott_df[\"Age\"])\n",
    "r"
   ]
  },
  {
   "cell_type": "markdown",
   "id": "ec5863b1",
   "metadata": {},
   "source": [
    "### Plotting scatter plot and Best fit line."
   ]
  },
  {
   "cell_type": "code",
   "execution_count": 46,
   "id": "a4a0a237",
   "metadata": {},
   "outputs": [
    {
     "data": {
      "text/plain": [
       "<seaborn.axisgrid.FacetGrid at 0x208bccb0880>"
      ]
     },
     "execution_count": 46,
     "metadata": {},
     "output_type": "execute_result"
    },
    {
     "data": {
      "image/png": "[encoded data removed]",
      "text/plain": [
       "<Figure size 360x360 with 1 Axes>"
      ]
     },
     "metadata": {
      "needs_background": "light"
     },
     "output_type": "display_data"
    }
   ],
   "source": [
    "import seaborn as sn\n",
    "sn.lmplot(x=\"Age\",y=\"How many hours do you spend to watch content?(per day)\",data=ott_df)"
   ]
  },
  {
   "cell_type": "code",
   "execution_count": null,
   "id": "657f632f",
   "metadata": {},
   "outputs": [],
   "source": []
  }
 ],
 "metadata": {
  "kernelspec": {
   "display_name": "Python 3 (ipykernel)",
   "language": "python",
   "name": "python3"
  },
  "language_info": {
   "codemirror_mode": {
    "name": "ipython",
    "version": 3
   },
   "file_extension": ".py",
   "mimetype": "text/x-python",
   "name": "python",
   "nbconvert_exporter": "python",
   "pygments_lexer": "ipython3",
   "version": "3.9.12"
  }
 },
 "nbformat": 4,
 "nbformat_minor": 5
}
